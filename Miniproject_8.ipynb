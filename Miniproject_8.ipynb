{
  "cells": [
    {
      "cell_type": "code",
      "execution_count": null,
      "metadata": {
        "id": "HoXw5BaPlV_4"
      },
      "outputs": [],
      "source": [
        "# import libraries\n",
        "import tensorflow\n",
        "from tensorflow import keras"
      ]
    },
    {
      "cell_type": "code",
      "execution_count": null,
      "metadata": {
        "id": "L3kOKtRgoDeK"
      },
      "outputs": [],
      "source": [
        "train_images = r\"/content/drive/MyDrive/Project-aesthetix\""
      ]
    },
    {
      "cell_type": "code",
      "execution_count": null,
      "metadata": {
        "id": "fhhakWkm0CrW"
      },
      "outputs": [],
      "source": [
        "\n",
        "## Image Preprocessing using keras\n",
        "\n",
        "\n",
        "# As we know deep-learning is hungry for data, the data we have is only limited.\n",
        "# so lets perform **Image Agumentation** to create different versions\n",
        "# of the original image, which leads to a better model, since it learns\n",
        "# on the good and bad mix of images.\n",
        "\n",
        "from keras.preprocessing.image import ImageDataGenerator\n",
        "train_gen = ImageDataGenerator(\n",
        "    shear_range=0.1,\n",
        "    zoom_range=0.1,\n",
        "    horizontal_flip=True\n",
        ")"
      ]
    },
    {
      "cell_type": "code",
      "execution_count": null,
      "metadata": {
        "id": "PxJcXvlf1FXe"
      },
      "outputs": [],
      "source": [
        "# No transformations are made on the test data\n",
        "test_gen = ImageDataGenerator()"
      ]
    },
    {
      "cell_type": "code",
      "execution_count": null,
      "metadata": {
        "colab": {
          "base_uri": "https://localhost:8080/"
        },
        "id": "lg6IJ3JJ1H5D",
        "outputId": "5c65b16b-3d8a-4699-facd-a175c51cbcde"
      },
      "outputs": [
        {
          "output_type": "stream",
          "name": "stdout",
          "text": [
            "Found 200 images belonging to 4 classes.\n"
          ]
        }
      ],
      "source": [
        "\n",
        "# Generating training data\n",
        "training_data = train_gen.flow_from_directory(\n",
        "    train_images,\n",
        "    target_size = (100,100),\n",
        "    batch_size = 30,\n",
        "    class_mode = 'categorical'\n",
        ")"
      ]
    },
    {
      "cell_type": "code",
      "execution_count": null,
      "metadata": {
        "colab": {
          "base_uri": "https://localhost:8080/"
        },
        "id": "m1l26Bkf1KR8",
        "outputId": "a0c4ada4-516d-429e-fc59-280739de9c0b"
      },
      "outputs": [
        {
          "output_type": "stream",
          "name": "stdout",
          "text": [
            "Found 200 images belonging to 4 classes.\n"
          ]
        }
      ],
      "source": [
        "\n",
        "# generating test data\n",
        "testing_data = test_gen.flow_from_directory(\n",
        "    train_images,\n",
        "    target_size = (100,100),\n",
        "    batch_size = 30,\n",
        "    class_mode = 'categorical'\n",
        ")"
      ]
    },
    {
      "cell_type": "code",
      "execution_count": null,
      "metadata": {
        "colab": {
          "base_uri": "https://localhost:8080/"
        },
        "id": "IGp9p3Rk1MvN",
        "outputId": "0ae87041-1e30-47af-fa37-196a76bc53f4"
      },
      "outputs": [
        {
          "output_type": "execute_result",
          "data": {
            "text/plain": [
              "{'Anjana': 0, 'Ardramaria': 1, 'Faheem': 2, 'Joyal': 3}"
            ]
          },
          "metadata": {},
          "execution_count": 7
        }
      ],
      "source": [
        "\n",
        "# Printing class labels for each face\n",
        "testing_data.class_indices"
      ]
    },
    {
      "cell_type": "code",
      "execution_count": null,
      "metadata": {
        "id": "6xf8ttkE1PVl"
      },
      "outputs": [],
      "source": [
        "# training_data have numeric tag for each face\n",
        "Train_class = training_data.class_indices"
      ]
    },
    {
      "cell_type": "code",
      "execution_count": null,
      "metadata": {
        "id": "4PYaj8ro1esi"
      },
      "outputs": [],
      "source": [
        "\n",
        "# lets store them in a dictionary with swap for future reference\n",
        "Result_class = {}\n",
        "for value_tag, face_tag in zip(Train_class.values(),Train_class.keys()):\n",
        "    Result_class[value_tag] = face_tag"
      ]
    },
    {
      "cell_type": "code",
      "execution_count": null,
      "metadata": {
        "id": "RhnqKEUY1j8H"
      },
      "outputs": [],
      "source": [
        "# use pickle to save the mapping's\n",
        "import pickle\n",
        "with open(r'/content/drive/MyDrive/Project-aesthetix/FaceRecognition.pkl','wb') as Final_mapping:\n",
        "    pickle.dump(Result_class,Final_mapping)"
      ]
    },
    {
      "cell_type": "code",
      "execution_count": null,
      "metadata": {
        "colab": {
          "base_uri": "https://localhost:8080/"
        },
        "id": "nyC-i8dM1rV9",
        "outputId": "4d611467-ed2e-4701-fa0b-8a6e1a90643a"
      },
      "outputs": [
        {
          "output_type": "stream",
          "name": "stdout",
          "text": [
            "Mapping of Face and its numeric value {0: 'Anjana', 1: 'Ardramaria', 2: 'Faheem', 3: 'Joyal'}\n"
          ]
        }
      ],
      "source": [
        "\n",
        "print(\"Mapping of Face and its numeric value\",Result_class)\n",
        "\n",
        "Output_Neurons=len(Result_class) # The Number of output neurons in softmax"
      ]
    },
    {
      "cell_type": "code",
      "execution_count": null,
      "metadata": {
        "id": "HlRbHAAQ2N-W"
      },
      "outputs": [],
      "source": [
        "from keras.models import Sequential\n",
        "from keras.layers import Conv2D, MaxPool2D, Flatten, Dense\n",
        "\n",
        "'''Initializing the Convolutional Neural Network'''\n",
        "Model = Sequential()"
      ]
    },
    {
      "cell_type": "code",
      "execution_count": null,
      "metadata": {
        "id": "H6Z8BXNM2Ojl"
      },
      "outputs": [],
      "source": [
        "Model.add(Conv2D(16, kernel_size=(5,5), strides=(1,1), input_shape = (100,100,3),activation='relu'))"
      ]
    },
    {
      "cell_type": "code",
      "execution_count": null,
      "metadata": {
        "id": "Ztew2Neb2VqR"
      },
      "outputs": [],
      "source": [
        "Model.add(MaxPool2D(pool_size=(2,2)))"
      ]
    },
    {
      "cell_type": "code",
      "execution_count": null,
      "metadata": {
        "id": "32Ad7ypZ2arY"
      },
      "outputs": [],
      "source": [
        "Model.add(Conv2D(32,kernel_size=(3,3),strides=(1,1),activation='relu'))\n",
        "Model.add(MaxPool2D(pool_size=(2,2)))"
      ]
    },
    {
      "cell_type": "code",
      "execution_count": null,
      "metadata": {
        "id": "m7X0UNGt2eWV"
      },
      "outputs": [],
      "source": [
        "Model.add(Flatten())"
      ]
    },
    {
      "cell_type": "code",
      "execution_count": null,
      "metadata": {
        "id": "gjf4RrxA3GaF"
      },
      "outputs": [],
      "source": [
        "Model.add(Dense(64,activation='relu'))\n",
        "Model.add(Dense(Output_Neurons,activation='softmax'))"
      ]
    },
    {
      "cell_type": "code",
      "execution_count": null,
      "metadata": {
        "id": "kRv2cQlK3Mce"
      },
      "outputs": [],
      "source": [
        "Model.compile(loss='categorical_crossentropy',optimizer = 'adam',metrics = ['Accuracy'])"
      ]
    },
    {
      "cell_type": "code",
      "execution_count": null,
      "metadata": {
        "id": "EbC27pRm3RtT"
      },
      "outputs": [],
      "source": [
        "from keras.callbacks import EarlyStopping\n",
        "call = EarlyStopping(\n",
        "                    min_delta=0.005,\n",
        "                    patience=5,\n",
        "                     verbose=1\n",
        "                    )"
      ]
    },
    {
      "cell_type": "code",
      "execution_count": null,
      "metadata": {
        "id": "wm2QaY7-3cmZ"
      },
      "outputs": [],
      "source": [
        "import time\n",
        "StartTime=time.time()"
      ]
    },
    {
      "cell_type": "code",
      "execution_count": null,
      "metadata": {
        "colab": {
          "base_uri": "https://localhost:8080/"
        },
        "id": "YD-q4JvS3Ysh",
        "outputId": "126abd44-ce23-49d7-ce85-78e9abb213a6"
      },
      "outputs": [
        {
          "output_type": "stream",
          "name": "stderr",
          "text": [
            "<ipython-input-23-e64da11eb794>:1: UserWarning: `Model.fit_generator` is deprecated and will be removed in a future version. Please use `Model.fit`, which supports generators.\n",
            "  Model.fit_generator(training_data,\n"
          ]
        },
        {
          "output_type": "stream",
          "name": "stdout",
          "text": [
            "Epoch 1/5\n",
            "7/7 [==============================] - 135s 21s/step - loss: 417.6525 - Accuracy: 0.2150 - val_loss: 58.9354 - val_Accuracy: 0.2500\n",
            "Epoch 2/5\n",
            "7/7 [==============================] - 70s 11s/step - loss: 32.4125 - Accuracy: 0.3050 - val_loss: 6.4939 - val_Accuracy: 0.3750\n",
            "Epoch 3/5\n",
            "7/7 [==============================] - 69s 11s/step - loss: 5.5235 - Accuracy: 0.4050 - val_loss: 4.0940 - val_Accuracy: 0.4800\n",
            "Epoch 4/5\n",
            "7/7 [==============================] - 60s 9s/step - loss: 3.3239 - Accuracy: 0.4700 - val_loss: 1.0328 - val_Accuracy: 0.6800\n",
            "Epoch 5/5\n",
            "7/7 [==============================] - 58s 9s/step - loss: 1.4972 - Accuracy: 0.5950 - val_loss: 1.2579 - val_Accuracy: 0.6150\n",
            "Total Training Time taken:  7 Minutes\n"
          ]
        }
      ],
      "source": [
        "Model.fit_generator(training_data,\n",
        "          epochs = 5,\n",
        "          validation_data=testing_data,\n",
        "                   callbacks=call)\n",
        "\n",
        "Endtime = time.time()\n",
        "print('Total Training Time taken: ',round((Endtime-StartTime)/60),'Minutes')"
      ]
    },
    {
      "cell_type": "code",
      "execution_count": null,
      "metadata": {
        "id": "VYIBTavp3hP5"
      },
      "outputs": [],
      "source": [
        "import numpy as np\n",
        "from keras.preprocessing import image\n",
        "import os\n",
        "import glob"
      ]
    },
    {
      "cell_type": "code",
      "source": [
        "import matplotlib.pyplot as plt\n",
        "from keras.preprocessing import image"
      ],
      "metadata": {
        "id": "QR6g2tuGfujO"
      },
      "execution_count": null,
      "outputs": []
    },
    {
      "cell_type": "code",
      "execution_count": null,
      "metadata": {
        "colab": {
          "base_uri": "https://localhost:8080/",
          "height": 406
        },
        "id": "_udcCcyS4Ch6",
        "outputId": "609e9edf-1458-4a5c-d49b-537df3d6d218"
      },
      "outputs": [
        {
          "output_type": "display_data",
          "data": {
            "text/plain": [
              "<Figure size 640x480 with 1 Axes>"
            ],
            "image/png": "[encoded data removed]"
          },
          "metadata": {}
        }
      ],
      "source": [
        "ImagePath=r\"/content/drive/MyDrive/Project-aesthetix/Anjana/DSC_0229.JPG\"\n",
        "test_image=image.load_img(ImagePath,target_size=(100, 100))\n",
        "test_image=image.img_to_array(test_image)\n",
        "\n",
        "test_image = image.img_to_array(test_image)\n",
        "\n",
        "# Display the image\n",
        "plt.imshow(test_image.astype(int))\n",
        "plt.axis('off')  # Turn off axis labels\n",
        "plt.show()"
      ]
    },
    {
      "cell_type": "code",
      "execution_count": null,
      "metadata": {
        "id": "v_-lxR034IyZ"
      },
      "outputs": [],
      "source": [
        "\n",
        "test_image=np.expand_dims(test_image,axis=0)"
      ]
    },
    {
      "cell_type": "code",
      "execution_count": null,
      "metadata": {
        "id": "Yt7QCPSS4TDg"
      },
      "outputs": [],
      "source": [
        "result=Model.predict(test_image,verbose=0)"
      ]
    },
    {
      "cell_type": "code",
      "execution_count": null,
      "metadata": {
        "id": "5X9mbEwk4nRM",
        "colab": {
          "base_uri": "https://localhost:8080/"
        },
        "outputId": "256bec4f-f234-4d33-8453-413dadd482fe"
      },
      "outputs": [
        {
          "output_type": "stream",
          "name": "stdout",
          "text": [
            "########################################\n",
            "Prediction is:  Anjana\n"
          ]
        }
      ],
      "source": [
        "print('####'*10)\n",
        "print('Prediction is: ',Result_class[np.argmax(result)])"
      ]
    },
    {
      "cell_type": "code",
      "source": [],
      "metadata": {
        "id": "RVmrLGMEeEKA"
      },
      "execution_count": null,
      "outputs": []
    }
  ],
  "metadata": {
    "colab": {
      "provenance": []
    },
    "kernelspec": {
      "display_name": "Python 3",
      "name": "python3"
    },
    "language_info": {
      "name": "python"
    }
  },
  "nbformat": 4,
  "nbformat_minor": 0
}